{
 "cells": [
  {
   "cell_type": "code",
   "execution_count": 1,
   "id": "67b43da8-4616-4be6-9225-fc4fdb01ad73",
   "metadata": {},
   "outputs": [],
   "source": [
    "def f(x):\n",
    "    return x**2+4*x-5"
   ]
  },
  {
   "cell_type": "code",
   "execution_count": 12,
   "id": "52658148-fe56-4b62-9504-ce5afe5dedcd",
   "metadata": {},
   "outputs": [
    {
     "name": "stdout",
     "output_type": "stream",
     "text": [
      " x       f(x)\n",
      "--------------\n",
      "-2.5     -8.8\n",
      "-2.0     -9.0\n",
      "-1.5     -8.8\n",
      "-1.0     -8.0\n",
      "-0.5     -6.8\n",
      " 0.0     -5.0\n",
      " 0.5     -2.8\n",
      " 1.0      0.0\n",
      " 1.5      3.2\n",
      " 2.0      7.0\n"
     ]
    }
   ],
   "source": [
    "print(' x       f(x)')\n",
    "print('--------------')\n",
    "\n",
    "for x in range(-5,5):\n",
    "    print(f'{x/2:4.1f}{f(x/2):9.1f}')"
   ]
  },
  {
   "cell_type": "code",
   "execution_count": null,
   "id": "d970909e-6ae8-4664-a935-15c28727da20",
   "metadata": {},
   "outputs": [],
   "source": []
  }
 ],
 "metadata": {
  "kernelspec": {
   "display_name": "Python 3 (ipykernel)",
   "language": "python",
   "name": "python3"
  },
  "language_info": {
   "codemirror_mode": {
    "name": "ipython",
    "version": 3
   },
   "file_extension": ".py",
   "mimetype": "text/x-python",
   "name": "python",
   "nbconvert_exporter": "python",
   "pygments_lexer": "ipython3",
   "version": "3.9.7"
  }
 },
 "nbformat": 4,
 "nbformat_minor": 5
}
