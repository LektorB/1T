{
 "cells": [
  {
   "cell_type": "code",
   "execution_count": null,
   "id": "9931236d-2b10-4ee3-a893-4a7c44031c11",
   "metadata": {},
   "outputs": [],
   "source": [
    "# importere biblioteke vi trenger\n",
    "import matplotlib.pyplot as plt\n",
    "import numpy as np\n",
    "\n",
    "start = -5\n",
    "stopp = 8\n",
    "hopp = 0.1\n",
    "\n",
    "# definere funksjonen vi skal tegne\n",
    "def f(x):\n",
    "    return 2*x**2-4*x+1\n",
    "\n",
    "# lister/arrayer med x og yverdier\n",
    "xverdier = np.arange(start,stopp,hopp)\n",
    "yverdier = f(xverdier)\n",
    "\n",
    "# plotte dataene\n",
    "plt.plot(xverdier,yverdier)\n",
    "\n",
    "# pynte grafen\n",
    "# side 435 -> rutenett, navn på akser, tittel, forklaringsboks (legend)\n",
    "# bytt farge og stil på punkt og linjer.\n",
    "plt.xlabel('Dette er x-aksen [sekunder]')\n",
    "\n",
    "plt.title('Her er tittelen til plottet mitt :)')\n",
    "plt.show()\n"
   ]
  }
 ],
 "metadata": {
  "kernelspec": {
   "display_name": "Python 3 (ipykernel)",
   "language": "python",
   "name": "python3"
  },
  "language_info": {
   "codemirror_mode": {
    "name": "ipython",
    "version": 3
   },
   "file_extension": ".py",
   "mimetype": "text/x-python",
   "name": "python",
   "nbconvert_exporter": "python",
   "pygments_lexer": "ipython3",
   "version": "3.9.16"
  }
 },
 "nbformat": 4,
 "nbformat_minor": 5
}
