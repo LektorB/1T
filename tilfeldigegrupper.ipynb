{
 "cells": [
  {
   "cell_type": "code",
   "execution_count": 6,
   "id": "c943c63c-caad-47ad-8083-e7cce78b5eb6",
   "metadata": {},
   "outputs": [
    {
     "name": "stdout",
     "output_type": "stream",
     "text": [
      "Gruppe 1: Jon, Nicholas, Milo, Elias\n",
      "Gruppe 2: Julie, Peter, Anne-Cecilia, Maia\n",
      "Gruppe 3: Joseph, Emilie, Vilde\n",
      "Gruppe 4: Pernille, Mithun, Ingunn\n",
      "Gruppe 5: Christine, Jaran, Oskar\n",
      "Gruppe 6: Niklas, Amélie, Sverre\n",
      "Gruppe 7: Elise, Aron, Brage\n"
     ]
    }
   ],
   "source": [
    "from random import shuffle\n",
    "\n",
    "antall_grupper = 7\n",
    "\n",
    "navn = ['Joseph','Amélie','Aron','Jaran','Sverre','Maia','Elias','Niklas','Mithun',\n",
    "        'Ingunn','Elise','Vilde','Jon','Emilie','Anne-Cecilia','Milo','Brage',\n",
    "        'Pernille','Julie','Peter','Oskar','Christine','Nicholas']\n",
    "\n",
    "shuffle(navn)\n",
    "\n",
    "for n in range(antall_grupper):\n",
    "    print(f\"Gruppe {n+1}: {', '.join(navn[n::antall_grupper])}\")"
   ]
  },
  {
   "cell_type": "code",
   "execution_count": 7,
   "id": "0a978034-44fe-4405-bd0b-d461178f896d",
   "metadata": {},
   "outputs": [
    {
     "name": "stdout",
     "output_type": "stream",
     "text": [
      "Gruppe 1: Andreas, Håvard, Anna\n",
      "Gruppe 2: Torkil, Lavrans, Brage L\n",
      "Gruppe 3: Armondas, Ida, Oscar\n",
      "Gruppe 4: Einar, Ulrikke, Morten\n",
      "Gruppe 5: Alvaro, Afras, Mikkel\n",
      "Gruppe 6: Romeo, Torje, Brage E\n",
      "Gruppe 7: Håkon, Sigrid, Zander\n",
      "Gruppe 8: Gulbrand, Emil, Jakob, Mathias\n"
     ]
    }
   ],
   "source": [
    "from random import shuffle\n",
    "\n",
    "antall_grupper = 8\n",
    "\n",
    "navn = ['Gulbrand','Brage E','Ida','Romeo','Emil','Sigrid','Andreas','Håvard',\n",
    "        'Mikkel','Ulrikke','Lavrans','Anna','Brage L','Zander','Afras','Einar',\n",
    "        'Torje','Armondas','Oscar','Håkon','Morten','Torkil','Alvaro','Jakob, Mathias']\n",
    "\n",
    "shuffle(navn)\n",
    "\n",
    "for n in range(antall_grupper):\n",
    "    print(f\"Gruppe {n+1}: {', '.join(navn[n::antall_grupper])}\")"
   ]
  },
  {
   "cell_type": "code",
   "execution_count": null,
   "id": "fa7a2c31-c9f9-47f2-b421-f28e60203066",
   "metadata": {},
   "outputs": [],
   "source": []
  },
  {
   "cell_type": "code",
   "execution_count": null,
   "id": "84d5dd52-2843-4cdf-ada4-d649006fc0c3",
   "metadata": {},
   "outputs": [],
   "source": []
  }
 ],
 "metadata": {
  "kernelspec": {
   "display_name": "Python 3 (ipykernel)",
   "language": "python",
   "name": "python3"
  },
  "language_info": {
   "codemirror_mode": {
    "name": "ipython",
    "version": 3
   },
   "file_extension": ".py",
   "mimetype": "text/x-python",
   "name": "python",
   "nbconvert_exporter": "python",
   "pygments_lexer": "ipython3",
   "version": "3.9.16"
  }
 },
 "nbformat": 4,
 "nbformat_minor": 5
}
