{
 "cells": [
  {
   "cell_type": "code",
   "execution_count": 4,
   "id": "dadd967c-291d-4f6f-814c-4c3488dc3224",
   "metadata": {},
   "outputs": [
    {
     "data": {
      "image/png": "[encoded data removed]",
      "text/plain": [
       "<Figure size 432x288 with 1 Axes>"
      ]
     },
     "metadata": {
      "needs_background": "light"
     },
     "output_type": "display_data"
    }
   ],
   "source": [
    "#Denne programsnutten tegner histogram fra klassedelt og sortert data\n",
    "#importerer bibliotekene matolotlib.pyplot og numpy\n",
    "import matplotlib.pyplot as plt\n",
    "import numpy as np\n",
    "\n",
    "#legger inn klassegrenser og frekvenser som lister\n",
    " \n",
    "klassegrenser=[0,20,30,40,60,100]\n",
    "frekvenser=[5,10,10,15,20]\n",
    "\n",
    "#konverterer listene til array for enklere regning\n",
    "frekvenser=np.array(frekvenser)\n",
    "klassegrenser=np.array(klassegrenser)\n",
    "\n",
    "#regner ut alle klassemidtpunktene,klassebreddene og tilhørende histogramhøyder\n",
    "klassemidtpunkt=(klassegrenser[1:]+klassegrenser[:-1])/2\n",
    "klassebredde=(klassegrenser[1:]-klassegrenser[:-1])\n",
    "hist_hoyde=frekvenser/klassebredde\n",
    "\n",
    "#plotter histogrammet\n",
    "plt.hist(klassemidtpunkt,weights=hist_hoyde,bins=klassegrenser,color=\"blue\",histtype='stepfilled')\n",
    "\n",
    "#pynter litt\n",
    "plt.grid(visible=True) #True = ruter på, False = ruter av \n",
    "plt.xlabel(\"Dager\")\n",
    "plt.ylabel(\"Krabber pr. dag\")\n",
    "plt.title(\"Krabber sommeren 2021\")\n",
    "plt.show()"
   ]
  },
  {
   "cell_type": "code",
   "execution_count": null,
   "id": "e0e1fb2a-ae49-468d-91f7-4a6076af2704",
   "metadata": {},
   "outputs": [],
   "source": []
  }
 ],
 "metadata": {
  "kernelspec": {
   "display_name": "Python 3 (ipykernel)",
   "language": "python",
   "name": "python3"
  },
  "language_info": {
   "codemirror_mode": {
    "name": "ipython",
    "version": 3
   },
   "file_extension": ".py",
   "mimetype": "text/x-python",
   "name": "python",
   "nbconvert_exporter": "python",
   "pygments_lexer": "ipython3",
   "version": "3.9.12"
  }
 },
 "nbformat": 4,
 "nbformat_minor": 5
}
